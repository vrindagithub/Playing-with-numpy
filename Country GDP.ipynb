{
 "cells": [
  {
   "cell_type": "markdown",
   "metadata": {},
   "source": [
    "\n",
    "# 1. Evaluate the GDP Dataset\n",
    "\n"
   ]
  },
  {
   "cell_type": "markdown",
   "metadata": {},
   "source": [
    "#### 1: View and add the dataset"
   ]
  },
  {
   "cell_type": "code",
   "execution_count": 3,
   "metadata": {},
   "outputs": [],
   "source": [
    "#Import required library\n",
    "\n",
    "import numpy as np"
   ]
  },
  {
   "cell_type": "code",
   "execution_count": 4,
   "metadata": {},
   "outputs": [],
   "source": [
    "#Manually add the dataset\n",
    "\n",
    "countries = np.array(['Algeria','Angola','Argentina','Australia','Austria','Bahamas','Bangladesh',\n",
    "'Belarus','Belgium','Bhutan','Brazil','Bulgaria','Cambodia',\n",
    "'Cameroon','Chile','China','Colombia','Cyprus','Denmark',\n",
    "'El Salvador','Estonia','Ethiopia','Fiji','Finland',\n",
    "'France','Georgia','Ghana','Grenada','Guinea','Haiti',\n",
    "'Honduras','Hungary','India','Indonesia','Ireland',\n",
    "'Italy','Japan','Kenya', 'South Korea','Liberia',\n",
    "'Malaysia','Mexico', 'Morocco','Nepal','New Zealand',\n",
    "'Norway','Pakistan', 'Peru','Qatar','Russia','Singapore',\n",
    "'South Africa','Spain','Sweden','Switzerland','Thailand', \n",
    "'United Arab Emirates','United Kingdom','United States',\n",
    "'Uruguay','Venezuela','Vietnam','Zimbabwe'])\n",
    "\n",
    "gdp = np.array([2255.225482,629.9553062,11601.63022,25306.82494,27266.40335,19466.99052,\n",
    "                588.3691778,2890.345675,24733.62696,1445.760002,4803.398244,2618.876037,\n",
    "                590.4521124,665.7982328,7122.938458,2639.54156,3362.4656,15378.16704,\n",
    "                30860.12808,2579.115607,6525.541272,229.6769525,2242.689259,27570.4852,\n",
    "                23016.84778,1334.646773,402.6953275,6047.200797,394.1156638,385.5793827,\n",
    "                1414.072488,5745.981529,837.7464011,1206.991065,27715.52837,18937.24998,\n",
    "                39578.07441,478.2194906,16684.21278,279.2204061,5345.213415,6288.25324,\n",
    "                1908.304416,274.8728621,14646.42094,40034.85063,672.1547506,3359.517402,\n",
    "                36152.66676,3054.727742,33529.83052,3825.093781,15428.32098,33630.24604,\n",
    "                39170.41371,2699.123242,21058.43643,28272.40661,37691.02733,9581.05659,\n",
    "                5671.912202,757.4009286,347.7456605])\n",
    "\n"
   ]
  },
  {
   "cell_type": "markdown",
   "metadata": {
    "collapsed": true
   },
   "source": [
    "#### 2: Find and print the name of the country with the highest GDP"
   ]
  },
  {
   "cell_type": "code",
   "execution_count": 5,
   "metadata": {},
   "outputs": [
    {
     "data": {
      "text/plain": [
       "45"
      ]
     },
     "execution_count": 5,
     "metadata": {},
     "output_type": "execute_result"
    }
   ],
   "source": [
    "#Use the argmax() method to find the highest GDP\n",
    "\n",
    "highest_gdp = gdp.argmax()\n",
    "highest_gdp"
   ]
  },
  {
   "cell_type": "code",
   "execution_count": 6,
   "metadata": {},
   "outputs": [
    {
     "data": {
      "text/plain": [
       "'Norway'"
      ]
     },
     "execution_count": 6,
     "metadata": {},
     "output_type": "execute_result"
    }
   ],
   "source": [
    "#Print the name of the country\n",
    "country = countries[highest_gdp]\n",
    "country"
   ]
  },
  {
   "cell_type": "markdown",
   "metadata": {},
   "source": [
    "#### 3: Find and print the name of the country with the lowest GDP"
   ]
  },
  {
   "cell_type": "code",
   "execution_count": 7,
   "metadata": {},
   "outputs": [
    {
     "data": {
      "text/plain": [
       "21"
      ]
     },
     "execution_count": 7,
     "metadata": {},
     "output_type": "execute_result"
    }
   ],
   "source": [
    "#Use the argmin() method to find the lowest GDP\n",
    "\n",
    "\n",
    "lowest_gdp = gdp.argmin()\n",
    "lowest_gdp"
   ]
  },
  {
   "cell_type": "code",
   "execution_count": 9,
   "metadata": {},
   "outputs": [
    {
     "data": {
      "text/plain": [
       "'Ethiopia'"
      ]
     },
     "execution_count": 9,
     "metadata": {},
     "output_type": "execute_result"
    }
   ],
   "source": [
    "#Print the name of the country\n",
    "\n",
    "lowest_gdp_country = countries[lowest_gdp]\n",
    "lowest_gdp_country"
   ]
  },
  {
   "cell_type": "markdown",
   "metadata": {},
   "source": [
    "#### 4: Print out text ('evaluating country') and input value ('country name') iteratively"
   ]
  },
  {
   "cell_type": "code",
   "execution_count": 16,
   "metadata": {},
   "outputs": [
    {
     "name": "stdout",
     "output_type": "stream",
     "text": [
      "evaluating country Algeria\n",
      "evaluating country Angola\n",
      "evaluating country Argentina\n",
      "evaluating country Australia\n",
      "evaluating country Austria\n",
      "evaluating country Bahamas\n",
      "evaluating country Bangladesh\n",
      "evaluating country Belarus\n",
      "evaluating country Belgium\n",
      "evaluating country Bhutan\n",
      "evaluating country Brazil\n",
      "evaluating country Bulgaria\n",
      "evaluating country Cambodia\n",
      "evaluating country Cameroon\n",
      "evaluating country Chile\n",
      "evaluating country China\n",
      "evaluating country Colombia\n",
      "evaluating country Cyprus\n",
      "evaluating country Denmark\n",
      "evaluating country El Salvador\n",
      "evaluating country Estonia\n",
      "evaluating country Ethiopia\n",
      "evaluating country Fiji\n",
      "evaluating country Finland\n",
      "evaluating country France\n",
      "evaluating country Georgia\n",
      "evaluating country Ghana\n",
      "evaluating country Grenada\n",
      "evaluating country Guinea\n",
      "evaluating country Haiti\n",
      "evaluating country Honduras\n",
      "evaluating country Hungary\n",
      "evaluating country India\n",
      "evaluating country Indonesia\n",
      "evaluating country Ireland\n",
      "evaluating country Italy\n",
      "evaluating country Japan\n",
      "evaluating country Kenya\n",
      "evaluating country South Korea\n",
      "evaluating country Liberia\n",
      "evaluating country Malaysia\n",
      "evaluating country Mexico\n",
      "evaluating country Morocco\n",
      "evaluating country Nepal\n",
      "evaluating country New Zealand\n",
      "evaluating country Norway\n",
      "evaluating country Pakistan\n",
      "evaluating country Peru\n",
      "evaluating country Qatar\n",
      "evaluating country Russia\n",
      "evaluating country Singapore\n",
      "evaluating country South Africa\n",
      "evaluating country Spain\n",
      "evaluating country Sweden\n",
      "evaluating country Switzerland\n",
      "evaluating country Thailand\n",
      "evaluating country United Arab Emirates\n",
      "evaluating country United Kingdom\n",
      "evaluating country United States\n",
      "evaluating country Uruguay\n",
      "evaluating country Venezuela\n",
      "evaluating country Vietnam\n",
      "evaluating country Zimbabwe\n"
     ]
    }
   ],
   "source": [
    "#Use a for loop to print the required output\n",
    "\n",
    "for name in countries:\n",
    "    print ('evaluating country {}'.format(name))"
   ]
  },
  {
   "cell_type": "markdown",
   "metadata": {},
   "source": [
    "#### 5: Print out the entire list of the countries with their GDPs"
   ]
  },
  {
   "cell_type": "code",
   "execution_count": 21,
   "metadata": {},
   "outputs": [
    {
     "name": "stdout",
     "output_type": "stream",
     "text": [
      "Country Algeria per capita gdp is 2255.225482\n",
      "Country Angola per capita gdp is 629.9553062\n",
      "Country Argentina per capita gdp is 11601.63022\n",
      "Country Australia per capita gdp is 25306.82494\n",
      "Country Austria per capita gdp is 27266.40335\n",
      "Country Bahamas per capita gdp is 19466.99052\n",
      "Country Bangladesh per capita gdp is 588.3691778\n",
      "Country Belarus per capita gdp is 2890.345675\n",
      "Country Belgium per capita gdp is 24733.62696\n",
      "Country Bhutan per capita gdp is 1445.760002\n",
      "Country Brazil per capita gdp is 4803.398244\n",
      "Country Bulgaria per capita gdp is 2618.876037\n",
      "Country Cambodia per capita gdp is 590.4521124\n",
      "Country Cameroon per capita gdp is 665.7982328\n",
      "Country Chile per capita gdp is 7122.938458\n",
      "Country China per capita gdp is 2639.54156\n",
      "Country Colombia per capita gdp is 3362.4656\n",
      "Country Cyprus per capita gdp is 15378.16704\n",
      "Country Denmark per capita gdp is 30860.12808\n",
      "Country El Salvador per capita gdp is 2579.115607\n",
      "Country Estonia per capita gdp is 6525.541272\n",
      "Country Ethiopia per capita gdp is 229.6769525\n",
      "Country Fiji per capita gdp is 2242.689259\n",
      "Country Finland per capita gdp is 27570.4852\n",
      "Country France per capita gdp is 23016.84778\n",
      "Country Georgia per capita gdp is 1334.646773\n",
      "Country Ghana per capita gdp is 402.6953275\n",
      "Country Grenada per capita gdp is 6047.200797\n",
      "Country Guinea per capita gdp is 394.1156638\n",
      "Country Haiti per capita gdp is 385.5793827\n",
      "Country Honduras per capita gdp is 1414.072488\n",
      "Country Hungary per capita gdp is 5745.981529\n",
      "Country India per capita gdp is 837.7464011\n",
      "Country Indonesia per capita gdp is 1206.991065\n",
      "Country Ireland per capita gdp is 27715.52837\n",
      "Country Italy per capita gdp is 18937.24998\n",
      "Country Japan per capita gdp is 39578.07441\n",
      "Country Kenya per capita gdp is 478.2194906\n",
      "Country South Korea per capita gdp is 16684.21278\n",
      "Country Liberia per capita gdp is 279.2204061\n",
      "Country Malaysia per capita gdp is 5345.213415\n",
      "Country Mexico per capita gdp is 6288.25324\n",
      "Country Morocco per capita gdp is 1908.304416\n",
      "Country Nepal per capita gdp is 274.8728621\n",
      "Country New Zealand per capita gdp is 14646.42094\n",
      "Country Norway per capita gdp is 40034.85063\n",
      "Country Pakistan per capita gdp is 672.1547506\n",
      "Country Peru per capita gdp is 3359.517402\n",
      "Country Qatar per capita gdp is 36152.66676\n",
      "Country Russia per capita gdp is 3054.727742\n",
      "Country Singapore per capita gdp is 33529.83052\n",
      "Country South Africa per capita gdp is 3825.093781\n",
      "Country Spain per capita gdp is 15428.32098\n",
      "Country Sweden per capita gdp is 33630.24604\n",
      "Country Switzerland per capita gdp is 39170.41371\n",
      "Country Thailand per capita gdp is 2699.123242\n",
      "Country United Arab Emirates per capita gdp is 21058.43643\n",
      "Country United Kingdom per capita gdp is 28272.40661\n",
      "Country United States per capita gdp is 37691.02733\n",
      "Country Uruguay per capita gdp is 9581.05659\n",
      "Country Venezuela per capita gdp is 5671.912202\n",
      "Country Vietnam per capita gdp is 757.4009286\n",
      "Country Zimbabwe per capita gdp is 347.7456605\n"
     ]
    }
   ],
   "source": [
    "#Use a for loop to print the required list\n",
    "\n",
    "for i in range(len(countries)):\n",
    "    country = countries[i]\n",
    "    gdp_country = gdp[i]\n",
    "    print('Country {} per capita gdp is {}'.format(country, gdp_country))\n",
    "    "
   ]
  },
  {
   "cell_type": "markdown",
   "metadata": {},
   "source": [
    "#### 6: Print the following:\n",
    "1. Highest GPD value\n",
    "2. Lowest GDP value\n",
    "3. Mean GDP value\n",
    "4. Standardized GDP value\n",
    "5. Sum of all the GDPs"
   ]
  },
  {
   "cell_type": "code",
   "execution_count": 23,
   "metadata": {},
   "outputs": [
    {
     "name": "stdout",
     "output_type": "stream",
     "text": [
      "The highest Gdp value is 40034.85063\n"
     ]
    }
   ],
   "source": [
    "print('The highest Gdp value is {}'.format(gdp.max()))"
   ]
  },
  {
   "cell_type": "code",
   "execution_count": 24,
   "metadata": {},
   "outputs": [
    {
     "name": "stdout",
     "output_type": "stream",
     "text": [
      "The lowest Gdp value is 229.6769525\n"
     ]
    }
   ],
   "source": [
    "print('The lowest Gdp value is {}'.format(gdp.min()))"
   ]
  },
  {
   "cell_type": "code",
   "execution_count": 25,
   "metadata": {},
   "outputs": [
    {
     "name": "stdout",
     "output_type": "stream",
     "text": [
      "The mean Gdp value is 11289.409271639683\n"
     ]
    }
   ],
   "source": [
    "print('The mean Gdp value is {}'.format(gdp.mean()))"
   ]
  },
  {
   "cell_type": "code",
   "execution_count": 27,
   "metadata": {},
   "outputs": [
    {
     "name": "stdout",
     "output_type": "stream",
     "text": [
      "The standard Gdp value is 12743.828910617945\n"
     ]
    }
   ],
   "source": [
    "print('The standard Gdp value is {}'.format(gdp.std()))"
   ]
  },
  {
   "cell_type": "code",
   "execution_count": 28,
   "metadata": {},
   "outputs": [
    {
     "name": "stdout",
     "output_type": "stream",
     "text": [
      "The sum of all Gdp value is 711232.7841133\n"
     ]
    }
   ],
   "source": [
    "print('The sum of all Gdp value is {}'.format(gdp.sum()))"
   ]
  },
  {
   "cell_type": "code",
   "execution_count": null,
   "metadata": {},
   "outputs": [],
   "source": []
  }
 ],
 "metadata": {
  "kernelspec": {
   "display_name": "Python 3",
   "language": "python",
   "name": "python3"
  },
  "language_info": {
   "codemirror_mode": {
    "name": "ipython",
    "version": 3
   },
   "file_extension": ".py",
   "mimetype": "text/x-python",
   "name": "python",
   "nbconvert_exporter": "python",
   "pygments_lexer": "ipython3",
   "version": "3.9.0"
  }
 },
 "nbformat": 4,
 "nbformat_minor": 1
}
